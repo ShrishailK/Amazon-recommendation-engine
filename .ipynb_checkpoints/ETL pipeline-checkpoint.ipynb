{
 "cells": [
  {
   "cell_type": "markdown",
   "id": "77e72477",
   "metadata": {},
   "source": [
    "# ETL Pipeline:\n",
    "\n",
    "Creating a preprocessing pipleine to extract the data, transform the data according to our solution needs and load the data into a data base to be used later.   "
   ]
  },
  {
   "cell_type": "code",
   "execution_count": 1,
   "id": "bf70dbfd",
   "metadata": {},
   "outputs": [],
   "source": [
    "import pandas as pd"
   ]
  },
  {
   "cell_type": "code",
   "execution_count": 2,
   "id": "c6175d02",
   "metadata": {},
   "outputs": [],
   "source": [
    "#load json file using pandas\n",
    "data = pd.read_json('tops_fashion.json')"
   ]
  },
  {
   "cell_type": "markdown",
   "id": "8bb8f7b1",
   "metadata": {},
   "source": [
    "# 1.Data Loading "
   ]
  },
  {
   "cell_type": "code",
   "execution_count": 1,
   "id": "9d057c7b",
   "metadata": {},
   "outputs": [],
   "source": [
    "#print (\"number of data points {}, number of features {}\".format(data.shape[0],data.shape[1]))\n",
    "#print(\"name of all the features in our data {}\".format(data.columns))\n",
    "\n",
    "def load_data(Amazon_filepath):\n",
    "    \n",
    "    #importing amazon apparel dataset\n",
    "    data = pd.read_json(Amazon_filepath)\n",
    "    \n",
    "    #keeping just the pertinent features\n",
    "    data = [['asin','product_type_name', 'formatted_price','title','medium_image_url']]"
   ]
  },
  {
   "cell_type": "markdown",
   "id": "6ad13377",
   "metadata": {},
   "source": [
    "# 2. Data cleaning"
   ]
  },
  {
   "cell_type": "code",
   "execution_count": 2,
   "id": "62b7cf0e",
   "metadata": {},
   "outputs": [],
   "source": [
    "def Data_cleaning(data):\n",
    "    # removing apparels without a price as we need a price to sell apparelss\n",
    "    data = data[~data['formatted_price'].isnull()]\n",
    "    \n",
    "    #removing appaerls without a title as we need titles for vectorization\n",
    "    #distance based similarity recommendation for title vectorization\n",
    "    data = data[~data['title'].isnull()]\n",
    "    \n",
    "    #removing apparels with small length titles as they might not adequately describe apparel\n",
    "    data = data[data['title'].apply(lambda x : len(x.split())>4)]"
   ]
  }
 ],
 "metadata": {
  "kernelspec": {
   "display_name": "Python 3",
   "language": "python",
   "name": "python3"
  },
  "language_info": {
   "codemirror_mode": {
    "name": "ipython",
    "version": 3
   },
   "file_extension": ".py",
   "mimetype": "text/x-python",
   "name": "python",
   "nbconvert_exporter": "python",
   "pygments_lexer": "ipython3",
   "version": "3.8.10"
  }
 },
 "nbformat": 4,
 "nbformat_minor": 5
}
